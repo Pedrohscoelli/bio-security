{
 "cells": [
  {
   "cell_type": "code",
   "execution_count": 1,
   "id": "3e36ec8c",
   "metadata": {},
   "outputs": [],
   "source": [
    "# ---- Bibliotecas ----\n",
    "import warnings\n",
    "warnings.filterwarnings(\"ignore\")\n",
    "import numpy as np\n",
    "import pandas as pd\n",
    "from tabulate import tabulate\n",
    "import matplotlib.pyplot as plt\n",
    "import seaborn as sns\n",
    "import scipy.stats as stats\n",
    "from scipy.stats import shapiro, kstest, anderson, normaltest\n",
    "from scipy.stats import bernoulli, chisquare, alpha, anglit, arcsine, argus, beta, betaprime, bradford, burr, burr12, cauchy, chi, chi2, cosine, crystalball, dgamma, dweibull, erlang, expon, exponnorm, exponweib, f, fatiguelife, fisk, foldcauchy, foldnorm, genlogistic, gennorm, genpareto, genexpon, genextreme, gausshyper, gamma, gengamma, genhalflogistic, genhyperbolic, geninvgauss, gompertz, gumbel_r, gumbel_l, halfcauchy, halflogistic, halfnorm, hypsecant, invgamma, invgauss, invweibull, johnsonsb, johnsonsu, kappa4, kappa3, ksone, kstwobign, laplace, logistic, loggamma, loglaplace, lognorm, loguniform, lomax, maxwell, mielke, moyal, nakagami, ncx2, ncf, nct, norm, norminvgauss, pareto, pearson3, powerlaw, powerlognorm, powernorm, rdist, rayleigh, recipinvgauss, semicircular, skewcauchy, skewnorm, t, trapezoid, triang, truncexpon, truncnorm, truncpareto, truncweibull_min, tukeylambda, uniform, vonmises, vonmises_line, wald, weibull_min, weibull_max, wrapcauchy\n",
    "from mpl_toolkits.mplot3d import Axes3D\n",
    "import unicodedata\n",
    "import plotly.express as px\n",
    "import sweetviz as sv\n",
    "import os\n",
    "import re"
   ]
  },
  {
   "cell_type": "code",
   "execution_count": 2,
   "id": "026a8978",
   "metadata": {},
   "outputs": [
    {
     "name": "stdout",
     "output_type": "stream",
     "text": [
      "+---+------+-----------+---------+-----------+----------+---------+---------+-----------+----------+------------+----------+-------------+--------+--------+--------+--------+--------+--------+---------+---------+---------+-----------+----------+----------+---------+---------+---------+--------+-----------+-----------+-------------------+------------------+------------------+------------------+----------------+-----------+------------+----------+-----------+------------+------------+------------+------------+------------+--------+--------+-----------+----------+---------------+---------+---------+---------+--------------+\n",
      "|   | ano  |    mes    | N_casos | SEX_indef | SEX_masc | SEX_fem | RA_ndec | RA_branco | RA_negro | RA_amarelo | RA_pardo | RA_indigena | EP_ign | EP_sim | EP_nao | EM_ign | EM_sim | EM_nao | EPi_ign | EPi_sim | EPi_nao | EPni__ign | EPni_sim | EPni_nao | EXO_ign | EXO_sim | EXO_nao | MO_ign | MO_sangue | MO_liquor | MO_liquor_pleural | MO_liquor_ascite | MO_liq_amniotico | MO_fluido_sangue | MO_soro_plasma | MO_outros | FE_< 1 ano | FE_1_a_4 | FE_5_a_14 | FE_15_a_24 | FE_25_a_34 | FE_35_a_44 | FE_45_a_54 | FE_55_a_64 | FE_65+ | ZR_ign | ZR_urbana | ZR_rural | ZR_periurbana | CAT_ign | CAT_sim | CAT_nao | CAT_n_aplica |\n",
      "+---+------+-----------+---------+-----------+----------+---------+---------+-----------+----------+------------+----------+-------------+--------+--------+--------+--------+--------+--------+---------+---------+---------+-----------+----------+----------+---------+---------+---------+--------+-----------+-----------+-------------------+------------------+------------------+------------------+----------------+-----------+------------+----------+-----------+------------+------------+------------+------------+------------+--------+--------+-----------+----------+---------------+---------+---------+---------+--------------+\n",
      "| 0 | 2024 |  janeiro  |   966   |     0     |   238    |   728   |   23    |    388    |   104    |     9      |   440    |      2      |  112   |  632   |  222   |  214   |   87   |  665   |   200   |   347   |   419   |    231    |    51    |   684    |   287   |   51    |   628   |  104   |    693    |     9     |         1         |        1         |        3         |        25        |       6        |    124    |     2      |    0     |     2     |    176     |    346     |    262     |    127     |     41     |   10   |   60   |    883    |    22    |       1       |   222   |   505   |   196   |      43      |\n",
      "| 1 | 2024 | fevereiro |   799   |     0     |   185    |   614   |   23    |    348    |   100    |     6      |   322    |      0      |   64   |  508   |  227   |  140   |  102   |  557   |   127   |   238   |   434   |    176    |    49    |   601    |   204   |   73    |   522   |   54   |    544    |     7     |         0         |        0         |        1         |        37        |       2        |    154    |     1      |    0     |     0     |    142     |    278     |    208     |    128     |     36     |   6    |   27   |    735    |    36    |       1       |   157   |   389   |   215   |      37      |\n",
      "| 2 | 2024 |   marco   |   935   |     1     |   237    |   697   |   43    |    390    |    84    |     8      |   408    |      2      |   57   |  588   |  290   |  144   |  110   |  681   |   127   |   327   |   481   |    155    |    57    |   723    |   239   |   65    |   631   |   63   |    647    |    13     |         5         |        0         |        3         |        27        |       5        |    172    |     2      |    0     |     1     |    201     |    324     |    257     |    114     |     34     |   2    |   35   |    868    |    31    |       1       |   186   |   453   |   240   |      56      |\n",
      "| 3 | 2024 |   abril   |   974   |     0     |   227    |   747   |   33    |    426    |    91    |     6      |   416    |      2      |   82   |  661   |  231   |  194   |  103   |  677   |   178   |   332   |   464   |    211    |    46    |   717    |   282   |   18    |   674   |   83   |    726    |     6     |         2         |        0         |        5         |        40        |       4        |    108    |     2      |    0     |     2     |    192     |    334     |    236     |    159     |     39     |   10   |   27   |    912    |    33    |       2       |   183   |   506   |   220   |      65      |\n",
      "| 4 | 2024 |   maio    |   886   |     0     |   197    |   689   |   33    |    399    |    78    |     3      |   372    |      1      |   65   |  614   |  207   |  157   |   84   |  645   |   140   |   309   |   437   |    169    |    52    |   665    |   252   |   13    |   621   |   78   |    655    |     9     |         1         |        0         |        1         |        38        |       4        |    100    |     7      |    1     |     1     |    184     |    312     |    217     |    121     |     37     |   6    |   33   |    822    |    31    |       0       |   182   |   459   |   181   |      64      |\n",
      "+---+------+-----------+---------+-----------+----------+---------+---------+-----------+----------+------------+----------+-------------+--------+--------+--------+--------+--------+--------+---------+---------+---------+-----------+----------+----------+---------+---------+---------+--------+-----------+-----------+-------------------+------------------+------------------+------------------+----------------+-----------+------------+----------+-----------+------------+------------+------------+------------+------------+--------+--------+-----------+----------+---------------+---------+---------+---------+--------------+\n"
     ]
    }
   ],
   "source": [
    "# --- 1. Ler o arquivo CSV ---\n",
    "# names = [N_casos, nº de casos; SEX, sexo; RA, raça; EP,  exp. percutanea; EM, exp. mucosa; EPi, exp. pele integra; \n",
    "# EPni, exp. pele não integra; EXO, exp. outros; MO, Material organico; FE, faixa etaria; ZR, zona de residencia; \n",
    "# CAT , emissão de CAT]\n",
    "\n",
    "# substitua pelo nome correto do seu arquivo .csv\n",
    "dados = pd.read_csv(\"bio-security.csv\", decimal=\",\", encoding=\"utf-8\")\n",
    "#dados = dados.applymap(lambda x: str(x).replace(\",\", \".\") if isinstance(x, str) else x)\n",
    "\n",
    "# Visualizar as primeiras 5 linhas\n",
    "print(tabulate(dados.head(), headers='keys', tablefmt='pretty'))"
   ]
  },
  {
   "cell_type": "code",
   "execution_count": 3,
   "id": "c5dd7dfa",
   "metadata": {},
   "outputs": [
    {
     "name": "stdout",
     "output_type": "stream",
     "text": [
      "Número de amostras (linhas, colunas):\n",
      "(60, 53)\n"
     ]
    }
   ],
   "source": [
    "# --- 2. Shape da tabela (número de linhas e colunas) ---\n",
    "print(\"Número de amostras (linhas, colunas):\")\n",
    "print(dados.shape)"
   ]
  },
  {
   "cell_type": "code",
   "execution_count": 4,
   "id": "51db8330",
   "metadata": {},
   "outputs": [
    {
     "name": "stdout",
     "output_type": "stream",
     "text": [
      "Index(['ano', 'mes', 'N_casos', 'SEX_indef', 'SEX_masc', 'SEX_fem', 'RA_ndec',\n",
      "       'RA_branco', 'RA_negro', 'RA_amarelo', 'RA_pardo', 'RA_indigena',\n",
      "       'EP_ign', 'EP_sim', 'EP_nao', 'EM_ign', 'EM_sim', 'EM_nao', 'EPi_ign',\n",
      "       'EPi_sim', 'EPi_nao', 'EPni__ign', 'EPni_sim', 'EPni_nao', 'EXO_ign',\n",
      "       'EXO_sim', 'EXO_nao', 'MO_ign', 'MO_sangue', 'MO_liquor',\n",
      "       'MO_liquor_pleural', 'MO_liquor_ascite', 'MO_liq_amniotico',\n",
      "       'MO_fluido_sangue', 'MO_soro_plasma', 'MO_outros', 'FE_< 1 ano',\n",
      "       'FE_1_a_4', 'FE_5_a_14', 'FE_15_a_24', 'FE_25_a_34', 'FE_35_a_44',\n",
      "       'FE_45_a_54', 'FE_55_a_64', 'FE_65+', 'ZR_ign', 'ZR_urbana', 'ZR_rural',\n",
      "       'ZR_periurbana', 'CAT_ign', 'CAT_sim', 'CAT_nao', 'CAT_n_aplica'],\n",
      "      dtype='object')\n"
     ]
    }
   ],
   "source": [
    "print(dados.columns)"
   ]
  },
  {
   "cell_type": "code",
   "execution_count": 5,
   "id": "dcac72e2",
   "metadata": {},
   "outputs": [
    {
     "name": "stdout",
     "output_type": "stream",
     "text": [
      "\n",
      " Valor Mínimo:\n",
      "ano         2020\n",
      "mes        abril\n",
      "N_casos      559\n",
      "Name: 51, dtype: object\n",
      "\n",
      " Valor Máximo:\n",
      "ano         2020\n",
      "mes        julho\n",
      "N_casos     1643\n",
      "Name: 54, dtype: object\n",
      "\n",
      " 📊 Estatísticas básicas do dataset:\n",
      "+-------+---------+-----------+----------+---------+---------+-----------+----------+------------+----------+-------------+--------+--------+--------+--------+--------+--------+---------+---------+---------+-----------+----------+----------+---------+---------+---------+--------+-----------+-----------+-------------------+------------------+------------------+------------------+----------------+-----------+------------+----------+-----------+------------+------------+------------+------------+------------+--------+--------+-----------+----------+---------------+---------+---------+---------+--------------+\n",
      "|       | N_casos | SEX_indef | SEX_masc | SEX_fem | RA_ndec | RA_branco | RA_negro | RA_amarelo | RA_pardo | RA_indigena | EP_ign | EP_sim | EP_nao | EM_ign | EM_sim | EM_nao | EPi_ign | EPi_sim | EPi_nao | EPni__ign | EPni_sim | EPni_nao | EXO_ign | EXO_sim | EXO_nao | MO_ign | MO_sangue | MO_liquor | MO_liquor_pleural | MO_liquor_ascite | MO_liq_amniotico | MO_fluido_sangue | MO_soro_plasma | MO_outros | FE_< 1 ano | FE_1_a_4 | FE_5_a_14 | FE_15_a_24 | FE_25_a_34 | FE_35_a_44 | FE_45_a_54 | FE_55_a_64 | FE_65+ | ZR_ign | ZR_urbana | ZR_rural | ZR_periurbana | CAT_ign | CAT_sim | CAT_nao | CAT_n_aplica |\n",
      "+-------+---------+-----------+----------+---------+---------+-----------+----------+------------+----------+-------------+--------+--------+--------+--------+--------+--------+---------+---------+---------+-----------+----------+----------+---------+---------+---------+--------+-----------+-----------+-------------------+------------------+------------------+------------------+----------------+-----------+------------+----------+-----------+------------+------------+------------+------------+------------+--------+--------+-----------+----------+---------------+---------+---------+---------+--------------+\n",
      "| count |  60.0   |   60.0    |   60.0   |  60.0   |  60.0   |   60.0    |   60.0   |    60.0    |   60.0   |    60.0     |  60.0  |  60.0  |  60.0  |  60.0  |  60.0  |  60.0  |  60.0   |  60.0   |  60.0   |   60.0    |   60.0   |   60.0   |  60.0   |  60.0   |  60.0   |  60.0  |   60.0    |   60.0    |       60.0        |       60.0       |       60.0       |       60.0       |      60.0      |   60.0    |    60.0    |   60.0   |   60.0    |    60.0    |    60.0    |    60.0    |    60.0    |    60.0    |  60.0  |  60.0  |   60.0    |   60.0   |     60.0      |  60.0   |  60.0   |  60.0   |     60.0     |\n",
      "| mean  | 956.43  |    0.1    |  232.53  |  724.3  |  41.78  |   427.8   |   85.5   |    6.92    |  393.05  |    1.38     | 88.87  | 504.47 | 362.77 | 172.28 | 147.12 | 637.03 | 162.95  | 300.38  | 492.95  |  192.67   |  47.48   |  716.73  | 234.18  | 153.48  | 567.13  | 85.15  |  532.05   |   5.57    |       1.55        |       0.6        |       1.3        |      30.67       |      2.73      |  298.28   |    4.73    |   0.12   |   0.77    |   159.53   |   329.63   |   270.37   |   135.32   |   45.55    |  8.25  |  57.8  |  857.07   |  39.78   |     1.62      | 191.38  | 425.57  | 286.72  |    51.08     |\n",
      "|  std  | 211.11  |    0.3    |  52.94   | 162.73  |  16.85  |  103.32   |  17.68   |    4.62    |   93.8   |    1.35     | 33.55  | 97.56  | 220.59 | 34.13  | 85.83  | 136.95 |  38.58  |  50.44  |  172.9  |   40.97   |   13.2   |  188.72  |  42.77  |  163.5  |  92.58  | 24.08  |  118.57   |   2.75    |       1.35        |       0.72       |       1.2        |       8.3        |      2.09      |  253.21   |    3.87    |   0.32   |   0.77    |   30.23    |    67.8    |   77.58    |   44.33    |   14.28    |  4.09  | 23.85  |   197.0   |  14.79   |     1.29      |  37.79  |  87.9   | 113.49  |    21.27     |\n",
      "|  min  |  559.0  |    0.0    |  134.0   |  411.0  |  13.0   |   263.0   |   49.0   |    0.0     |  215.0   |     0.0     |  20.0  | 315.0  | 130.0  | 111.0  |  48.0  | 342.0  |  98.0   |  204.0  |  212.0  |   123.0   |   23.0   |  350.0   |  148.0  |   9.0   |  339.0  |  51.0  |   327.0   |    1.0    |        0.0        |       0.0        |       0.0        |       16.0       |      0.0       |   70.0    |    0.0     |   0.0    |    0.0    |    97.0    |   197.0    |   158.0    |    66.0    |    20.0    |  1.0   |  14.0  |   475.0   |   19.0   |      0.0      |  120.0  |  249.0  |  117.0  |     15.0     |\n",
      "|  25%  | 840.25  |    0.0    |  200.75  | 627.75  |  30.75  |   361.5   |   75.0   |    4.0     |  346.75  |     0.0     |  64.0  | 421.5  | 222.0  | 149.0  | 84.75  | 548.75 |  135.0  |  258.0  | 381.75  |  164.75   |   38.0   |  621.25  | 204.75  |  32.0   | 513.25  |  67.5  |   426.0   |    4.0    |        0.0        |       0.0        |       0.0        |       24.0       |      1.0       |  111.75   |    2.0     |   0.0    |    0.0    |   140.75   |   293.5    |   216.0    |   109.75   |    36.0    |  6.0   | 38.75  |  732.25   |   31.0   |      1.0      |  170.5  | 364.75  | 202.75  |     37.0     |\n",
      "|  50%  |  936.0  |    0.0    |  228.0   |  713.5  |  39.0   |   413.5   |   84.0   |    6.0     |  390.0   |     1.0     |  79.5  | 506.5  | 257.0  | 164.5  | 108.5  | 649.0  |  159.5  |  309.0  |  464.5  |   186.0   |   49.0   |  704.0   |  235.0  |  75.0   |  563.0  |  81.5  |   530.5   |    5.0    |        1.0        |       0.0        |       1.0        |       29.0       |      2.5       |   177.0   |    4.0     |   0.0    |    1.0    |   163.0    |   328.0    |   246.5    |   122.5    |    42.5    |  8.0   |  57.0  |   865.5   |   36.0   |      1.0      |  190.5  |  432.5  |  242.0  |     45.0     |\n",
      "|  75%  | 1032.75 |    0.0    |  252.25  | 789.25  |  48.25  |   462.0   |  98.25   |    9.0     |  428.25  |     2.0     | 110.0  | 587.25 | 447.75 | 193.25 | 193.0  | 691.25 |  182.0  |  341.0  | 546.75  |  219.25   |   55.0   |  775.0   |  264.0  | 247.75  |  634.0  | 100.0  |  645.25   |    7.0    |        2.0        |       1.0        |       2.0        |      37.25       |      3.25      |   424.5   |    6.0     |   0.0    |    1.0    |   182.0    |   359.0    |   298.25   |   153.5    |    56.0    |  11.0  | 75.25  |   929.5   |   43.0   |      2.0      | 207.25  | 469.25  |  358.0  |    61.75     |\n",
      "|  max  | 1643.0  |    1.0    |  428.0   | 1215.0  |  88.0   |   768.0   |  140.0   |    21.0    |  670.0   |     5.0     | 201.0  | 666.0  | 1093.0 | 247.0  | 397.0  | 1030.0 |  285.0  |  409.0  | 1074.0  |   306.0   |   91.0   |  1305.0  |  323.0  |  659.0  |  803.0  | 160.0  |   740.0   |   13.0    |        5.0        |       3.0        |       5.0        |       47.0       |      10.0      |  1099.0   |    20.0    |   1.0    |    3.0    |   211.0    |   524.0    |   509.0    |   281.0    |    91.0    |  23.0  | 130.0  |  1498.0   |   92.0   |      6.0      |  297.0  |  746.0  |  565.0  |    122.0     |\n",
      "+-------+---------+-----------+----------+---------+---------+-----------+----------+------------+----------+-------------+--------+--------+--------+--------+--------+--------+---------+---------+---------+-----------+----------+----------+---------+---------+---------+--------+-----------+-----------+-------------------+------------------+------------------+------------------+----------------+-----------+------------+----------+-----------+------------+------------+------------+------------+------------+--------+--------+-----------+----------+---------------+---------+---------+---------+--------------+\n"
     ]
    }
   ],
   "source": [
    "# --- 3. Estatísticas descritivas ---\n",
    "# Encontrar o índice do valor mínimo e máximo\n",
    "min_idx = dados[\"N_casos\"].idxmin()\n",
    "max_idx = dados[\"N_casos\"].idxmax()\n",
    "\n",
    "# Mostrar mês e ano correspondentes\n",
    "min_info = dados.loc[min_idx, [\"ano\", \"mes\", \"N_casos\"]]\n",
    "max_info = dados.loc[max_idx, [\"ano\", \"mes\", \"N_casos\"]]\n",
    "\n",
    "print(\"\\n Valor Mínimo:\")\n",
    "print(min_info)\n",
    "\n",
    "print(\"\\n Valor Máximo:\")\n",
    "print(max_info)\n",
    "\n",
    "dados = dados.drop(columns=[\"ano\", \"mes\"], errors='ignore')\n",
    "print(\"\\n 📊 Estatísticas básicas do dataset:\")\n",
    "\n",
    "print(tabulate(dados.describe().round(2), headers='keys', tablefmt='pretty'))"
   ]
  },
  {
   "cell_type": "code",
   "execution_count": 6,
   "id": "ebb2dfdf",
   "metadata": {},
   "outputs": [
    {
     "name": "stdout",
     "output_type": "stream",
     "text": [
      "+---+------------------------------+-----------+\n",
      "|   |                              | Acidentes |\n",
      "+---+------------------------------+-----------+\n",
      "| 0 | Total de casos (2020 - 2024) |   57386   |\n",
      "+---+------------------------------+-----------+\n"
     ]
    }
   ],
   "source": [
    "# --- 4. Percentuais ---\n",
    "# --- Total de casos ---\n",
    "total_casos = {\n",
    "    \"Total de casos (2020 - 2024)\": dados[\"N_casos\"].sum()\n",
    "}\n",
    "\n",
    "# Transformar em DataFrame para plot\n",
    "total_casos = pd.DataFrame(list(total_casos.items()), columns=[\" \", \"Acidentes\"])\n",
    "\n",
    "print(tabulate(total_casos.round(2), headers='keys', tablefmt='pretty'))"
   ]
  },
  {
   "cell_type": "code",
   "execution_count": 7,
   "id": "e3126a2a",
   "metadata": {},
   "outputs": [
    {
     "name": "stdout",
     "output_type": "stream",
     "text": [
      "+---+------------+-----------+------------+\n",
      "|   |    Sexo    | Acidentes | Percentual |\n",
      "+---+------------+-----------+------------+\n",
      "| 0 | Indefinido |     6     |    0.01    |\n",
      "| 1 | Masculino  |   13952   |    24.3    |\n",
      "| 2 |  Feminino  |   43458   |   75.69    |\n",
      "+---+------------+-----------+------------+\n"
     ]
    }
   ],
   "source": [
    "# --- Por Sexo ---\n",
    "total_sexo = {\n",
    "    \"Indefinido\": dados[\"SEX_indef\"].sum(),\n",
    "    \"Masculino\": dados[\"SEX_masc\"].sum(),\n",
    "    \"Feminino\": dados[\"SEX_fem\"].sum()\n",
    "}\n",
    "\n",
    "# Transformar em DataFrame para plot\n",
    "por_sexo = pd.DataFrame(list(total_sexo.items()), columns=[\"Sexo\", \"Acidentes\"])\n",
    "\n",
    "# Calcula percentual\n",
    "por_sexo[\"Percentual\"] = (por_sexo[\"Acidentes\"] / por_sexo[\"Acidentes\"].sum()) * 100\n",
    "\n",
    "print(tabulate(por_sexo.round(2), headers='keys', tablefmt='pretty'))"
   ]
  },
  {
   "cell_type": "code",
   "execution_count": 8,
   "id": "e66a3e7b",
   "metadata": {},
   "outputs": [
    {
     "name": "stdout",
     "output_type": "stream",
     "text": [
      "+---+------------+-----------+------------+\n",
      "|   |    Raça    | Acidentes | Percentual |\n",
      "+---+------------+-----------+------------+\n",
      "| 0 | Indefinido |   2507    |    4.37    |\n",
      "| 1 |   Branco   |   25668   |   44.73    |\n",
      "| 2 |   Negro    |   5130    |    8.94    |\n",
      "| 3 |  Amarelo   |    415    |    0.72    |\n",
      "| 4 |   Pardo    |   23583   |    41.1    |\n",
      "| 5 |  Indigena  |    83     |    0.14    |\n",
      "+---+------------+-----------+------------+\n"
     ]
    }
   ],
   "source": [
    "# --- Por Raça ---\n",
    "total_raca = {\n",
    "    \"Indefinido\": dados[\"RA_ndec\"].sum(),\n",
    "    \"Branco\": dados[\"RA_branco\"].sum(),\n",
    "    \"Negro\": dados[\"RA_negro\"].sum(),\n",
    "    \"Amarelo\": dados[\"RA_amarelo\"].sum(),\n",
    "    \"Pardo\": dados[\"RA_pardo\"].sum(),\n",
    "    \"Indigena\": dados[\"RA_indigena\"].sum()\n",
    "}\n",
    "\n",
    "# Transformar em DataFrame para plot\n",
    "total_raca = pd.DataFrame(list(total_raca.items()), columns=[\"Raça\", \"Acidentes\"])\n",
    "\n",
    "# Calcula percentual\n",
    "total_raca[\"Percentual\"] = (total_raca[\"Acidentes\"] / total_raca[\"Acidentes\"].sum()) * 100\n",
    "\n",
    "print(tabulate(total_raca.round(2), headers='keys', tablefmt='pretty'))"
   ]
  },
  {
   "cell_type": "code",
   "execution_count": 9,
   "id": "dbf46871",
   "metadata": {},
   "outputs": [
    {
     "name": "stdout",
     "output_type": "stream",
     "text": [
      "+---+------------------+-----------+------------+\n",
      "|   | Expo. Percutanea | Acidentes | Percentual |\n",
      "+---+------------------+-----------+------------+\n",
      "| 0 |     Ignorado     |   5332    |    9.29    |\n",
      "| 1 |       Sim        |   30268   |   52.76    |\n",
      "| 2 |       Não        |   21766   |   37.94    |\n",
      "+---+------------------+-----------+------------+\n"
     ]
    }
   ],
   "source": [
    "# --- Por Exposição ---\n",
    "# --- Exposição Percutanea --- \n",
    "total_EP = {\n",
    "    \"Ignorado\": dados[\"EP_ign\"].sum(),\n",
    "    \"Sim\": dados[\"EP_sim\"].sum(),\n",
    "    \"Não\": dados[\"EP_nao\"].sum(),\n",
    "}\n",
    "\n",
    "# Transformar em DataFrame para plot\n",
    "total_EP = pd.DataFrame(list(total_EP.items()), columns=[\"Expo. Percutanea\", \"Acidentes\"])\n",
    "\n",
    "# Calcula percentual\n",
    "total_EP[\"Percentual\"] = (total_EP[\"Acidentes\"] / total_EP[\"Acidentes\"].sum()) * 100\n",
    "\n",
    "print(tabulate(total_EP.round(2), headers='keys', tablefmt='pretty'))"
   ]
  },
  {
   "cell_type": "code",
   "execution_count": 10,
   "id": "3b03caa9",
   "metadata": {},
   "outputs": [
    {
     "name": "stdout",
     "output_type": "stream",
     "text": [
      "+---+-----------------+-----------+------------+\n",
      "|   | Expo. de Mucosa | Acidentes | Percentual |\n",
      "+---+-----------------+-----------+------------+\n",
      "| 0 |    Ignorado     |   10337   |   18.01    |\n",
      "| 1 |       Sim       |   8827    |   15.38    |\n",
      "| 2 |       Não       |   38222   |   66.61    |\n",
      "+---+-----------------+-----------+------------+\n"
     ]
    }
   ],
   "source": [
    "# --- Exposição de Mucosa --- \n",
    "total_EM = {\n",
    "    \"Ignorado\": dados[\"EM_ign\"].sum(),\n",
    "    \"Sim\": dados[\"EM_sim\"].sum(),\n",
    "    \"Não\": dados[\"EM_nao\"].sum(),\n",
    "}\n",
    "\n",
    "# Transformar em DataFrame para plot\n",
    "total_EM = pd.DataFrame(list(total_EM.items()), columns=[\"Expo. de Mucosa\", \"Acidentes\"])\n",
    "\n",
    "# Calcula percentual\n",
    "total_EM[\"Percentual\"] = (total_EM[\"Acidentes\"] / total_EM[\"Acidentes\"].sum()) * 100\n",
    "\n",
    "print(tabulate(total_EM.round(2), headers='keys', tablefmt='pretty'))"
   ]
  },
  {
   "cell_type": "code",
   "execution_count": 11,
   "id": "399de549",
   "metadata": {},
   "outputs": [
    {
     "name": "stdout",
     "output_type": "stream",
     "text": [
      "+---+-----------------------+-----------+------------+\n",
      "|   | Expo. de Pele Integra | Acidentes | Percentual |\n",
      "+---+-----------------------+-----------+------------+\n",
      "| 0 |       Ignorado        |   9777    |   17.04    |\n",
      "| 1 |          Sim          |   18023   |   31.41    |\n",
      "| 2 |          Não          |   29577   |   51.55    |\n",
      "+---+-----------------------+-----------+------------+\n"
     ]
    }
   ],
   "source": [
    "# --- Exposição de Pele integra --- \n",
    "total_EPi = {\n",
    "    \"Ignorado\": dados[\"EPi_ign\"].sum(),\n",
    "    \"Sim\": dados[\"EPi_sim\"].sum(),\n",
    "    \"Não\": dados[\"EPi_nao\"].sum(),\n",
    "}\n",
    "\n",
    "# Transformar em DataFrame para plot\n",
    "total_EPi = pd.DataFrame(list(total_EPi.items()), columns=[\"Expo. de Pele Integra\", \"Acidentes\"])\n",
    "\n",
    "# Calcula percentual\n",
    "total_EPi[\"Percentual\"] = (total_EPi[\"Acidentes\"] / total_EPi[\"Acidentes\"].sum()) * 100\n",
    "\n",
    "print(tabulate(total_EPi.round(2), headers='keys', tablefmt='pretty'))"
   ]
  },
  {
   "cell_type": "code",
   "execution_count": 12,
   "id": "0acf0a93",
   "metadata": {},
   "outputs": [
    {
     "name": "stdout",
     "output_type": "stream",
     "text": [
      "+---+-------------------------+-----------+------------+\n",
      "|   | Expo. de Pele Ñ Integra | Acidentes | Percentual |\n",
      "+---+-------------------------+-----------+------------+\n",
      "| 0 |        Ignorado         |   11560   |   20.13    |\n",
      "| 1 |           Sim           |   2849    |    4.96    |\n",
      "| 2 |           Não           |   43004   |    74.9    |\n",
      "+---+-------------------------+-----------+------------+\n"
     ]
    }
   ],
   "source": [
    "# --- Exposição de Pele ñ integra --- \n",
    "total_EPni = {\n",
    "    \"Ignorado\": dados[\"EPni__ign\"].sum(),\n",
    "    \"Sim\": dados[\"EPni_sim\"].sum(),\n",
    "    \"Não\": dados[\"EPni_nao\"].sum(),\n",
    "}\n",
    "\n",
    "# Transformar em DataFrame para plot\n",
    "total_EPni = pd.DataFrame(list(total_EPni.items()), columns=[\"Expo. de Pele Ñ Integra\", \"Acidentes\"])\n",
    "\n",
    "# Calcula percentual\n",
    "total_EPni[\"Percentual\"] = (total_EPni[\"Acidentes\"] / total_EPni[\"Acidentes\"].sum()) * 100\n",
    "\n",
    "print(tabulate(total_EPni.round(2), headers='keys', tablefmt='pretty'))"
   ]
  },
  {
   "cell_type": "code",
   "execution_count": 13,
   "id": "c4eeedb4",
   "metadata": {},
   "outputs": [
    {
     "name": "stdout",
     "output_type": "stream",
     "text": [
      "+---+---------------------+-----------+------------+\n",
      "|   | Expo. Outras partes | Acidentes | Percentual |\n",
      "+---+---------------------+-----------+------------+\n",
      "| 0 |      Ignorado       |   14051   |   24.47    |\n",
      "| 1 |         Sim         |   9209    |   16.04    |\n",
      "| 2 |         Não         |   34028   |   59.27    |\n",
      "+---+---------------------+-----------+------------+\n"
     ]
    }
   ],
   "source": [
    "# --- Exposição de Outros --- \n",
    "total_EXO = {\n",
    "    \"Ignorado\": dados[\"EXO_ign\"].sum(),\n",
    "    \"Sim\": dados[\"EXO_sim\"].sum(),\n",
    "    \"Não\": dados[\"EXO_nao\"].sum(),\n",
    "}\n",
    "\n",
    "# Transformar em DataFrame para plot\n",
    "total_EXO = pd.DataFrame(list(total_EXO.items()), columns=[\"Expo. Outras partes\", \"Acidentes\"])\n",
    "\n",
    "# Calcula percentual\n",
    "total_EXO[\"Percentual\"] = (total_EXO[\"Acidentes\"] / total_EPni[\"Acidentes\"].sum()) * 100\n",
    "\n",
    "print(tabulate(total_EXO.round(2), headers='keys', tablefmt='pretty'))"
   ]
  },
  {
   "cell_type": "code",
   "execution_count": 14,
   "id": "002323fe",
   "metadata": {},
   "outputs": [
    {
     "name": "stdout",
     "output_type": "stream",
     "text": [
      "+---+-------------------+-----------+------------+\n",
      "|   | Matérial Orgânico | Acidentes | Percentual |\n",
      "+---+-------------------+-----------+------------+\n",
      "| 0 |      Sangue       |   5109    |    8.94    |\n",
      "| 1 |      Liquor       |   31923   |   55.87    |\n",
      "| 2 |  Liquor Pleural   |    93     |    0.16    |\n",
      "| 3 |   Liquor Ascite   |    36     |    0.06    |\n",
      "| 4 |  Liq. Amniotico   |    78     |    0.14    |\n",
      "| 5 | Fluido de Sangue  |   1840    |    3.22    |\n",
      "| 6 |    Soro/Plasma    |    164    |    0.29    |\n",
      "| 7 |      Outros       |   17897   |   31.32    |\n",
      "+---+-------------------+-----------+------------+\n"
     ]
    }
   ],
   "source": [
    "# --- Materia Organica --- \n",
    "total_MO = {\n",
    "    \"Sangue\": dados[\"MO_ign\"].sum(),\n",
    "    \"Liquor\": dados[\"MO_sangue\"].sum(),\n",
    "    \"Liquor Pleural\": dados[\"MO_liquor_pleural\"].sum(),\n",
    "    \"Liquor Ascite\": dados[\"MO_liquor_ascite\"].sum(),\n",
    "    \"Liq. Amniotico\": dados[\"MO_liq_amniotico\"].sum(),\n",
    "    \"Fluido de Sangue\": dados[\"MO_fluido_sangue\"].sum(),\n",
    "    \"Soro/Plasma\": dados[\"MO_soro_plasma\"].sum(),\n",
    "    \"Outros\": dados[\"MO_outros\"].sum()\n",
    "}\n",
    "\n",
    "# Transformar em DataFrame para plot\n",
    "total_MO = pd.DataFrame(list(total_MO.items()), columns=[\"Matérial Orgânico\", \"Acidentes\"])\n",
    "\n",
    "# Calcula percentual\n",
    "total_MO[\"Percentual\"] = (total_MO[\"Acidentes\"] / total_MO[\"Acidentes\"].sum()) * 100\n",
    "\n",
    "print(tabulate(total_MO.round(2), headers='keys', tablefmt='pretty'))"
   ]
  },
  {
   "cell_type": "code",
   "execution_count": 15,
   "id": "5767e973",
   "metadata": {},
   "outputs": [
    {
     "name": "stdout",
     "output_type": "stream",
     "text": [
      "+---+--------------+-----------+------------+\n",
      "|   | Faixa Etária | Acidentes | Percentual |\n",
      "+---+--------------+-----------+------------+\n",
      "| 0 |  1 a 4 anos  |     7     |    0.01    |\n",
      "| 1 | 5 a 14 anos  |    46     |    0.08    |\n",
      "| 2 | 15 a 24 anos |   9572    |    16.8    |\n",
      "| 3 | 25 a 34 anos |   19778   |   34.72    |\n",
      "| 4 | 35 a 44 anos |   16222   |   28.47    |\n",
      "| 5 | 45 a 54 anos |   8119    |   14.25    |\n",
      "| 6 | 55 a 64 anos |   2733    |    4.8     |\n",
      "| 7 |     65+      |    495    |    0.87    |\n",
      "+---+--------------+-----------+------------+\n"
     ]
    }
   ],
   "source": [
    "# --- Faixa Etária ---\n",
    "total_FE = {\n",
    "    \"1 a 4 anos\": dados[\"FE_1_a_4\"].sum(),\n",
    "    \"5 a 14 anos\": dados[\"FE_5_a_14\"].sum(),\n",
    "    \"15 a 24 anos\": dados[\"FE_15_a_24\"].sum(),\n",
    "    \"25 a 34 anos\": dados[\"FE_25_a_34\"].sum(),\n",
    "    \"35 a 44 anos\": dados[\"FE_35_a_44\"].sum(),\n",
    "    \"45 a 54 anos\": dados[\"FE_45_a_54\"].sum(),\n",
    "    \"55 a 64 anos\": dados[\"FE_55_a_64\"].sum(),\n",
    "    \"65+\": dados[\"FE_65+\"].sum()\n",
    "}\n",
    "\n",
    "# Transformar em DataFrame para plot\n",
    "total_FE = pd.DataFrame(list(total_FE.items()), columns=[\"Faixa Etária\", \"Acidentes\"])\n",
    "\n",
    "# Calcula percentual\n",
    "total_FE[\"Percentual\"] = (total_FE[\"Acidentes\"] / total_FE[\"Acidentes\"].sum()) * 100\n",
    "\n",
    "print(tabulate(total_FE.round(2), headers='keys', tablefmt='pretty'))\n"
   ]
  },
  {
   "cell_type": "code",
   "execution_count": 16,
   "id": "a0492506",
   "metadata": {},
   "outputs": [
    {
     "name": "stdout",
     "output_type": "stream",
     "text": [
      "+---+--------------------+-----------+------------+\n",
      "|   | Zona de Residência | Acidentes | Percentual |\n",
      "+---+--------------------+-----------+------------+\n",
      "| 0 |      Ignorada      |   3468    |    6.04    |\n",
      "| 1 |       Urbana       |   51424   |   89.63    |\n",
      "| 2 |       Rural        |   2387    |    4.16    |\n",
      "| 3 |     Periurbana     |    97     |    0.17    |\n",
      "+---+--------------------+-----------+------------+\n"
     ]
    }
   ],
   "source": [
    "# --- Zona de Residência ---\n",
    "total_ZR = {\n",
    "    \"Ignorada\": dados[\"ZR_ign\"].sum(),\n",
    "    \"Urbana\": dados[\"ZR_urbana\"].sum(),\n",
    "    \"Rural\": dados[\"ZR_rural\"].sum(),\n",
    "    \"Periurbana\": dados[\"ZR_periurbana\"].sum()\n",
    "}\n",
    "\n",
    "# Transformar em DataFrame para plot\n",
    "total_ZR = pd.DataFrame(list(total_ZR.items()), columns=[\"Zona de Residência\", \"Acidentes\"])\n",
    "\n",
    "# Calcula percentual\n",
    "total_ZR[\"Percentual\"] = (total_ZR[\"Acidentes\"] / total_ZR[\"Acidentes\"].sum()) * 100\n",
    "\n",
    "print(tabulate(total_ZR.round(2), headers='keys', tablefmt='pretty'))\n"
   ]
  },
  {
   "cell_type": "code",
   "execution_count": 17,
   "id": "e6f14741",
   "metadata": {},
   "outputs": [
    {
     "name": "stdout",
     "output_type": "stream",
     "text": [
      "+---+---------------+-----------+------------+\n",
      "|   |      CAT      | Acidentes | Percentual |\n",
      "+---+---------------+-----------+------------+\n",
      "| 0 |   Ignorado    |   11483   |   20.05    |\n",
      "| 1 |      Sim      |   25534   |   44.57    |\n",
      "| 2 |      Não      |   17203   |   30.03    |\n",
      "| 3 | Não se aplica |   3065    |    5.35    |\n",
      "+---+---------------+-----------+------------+\n"
     ]
    }
   ],
   "source": [
    "# --- Comunicação de Acidente de Trabalho (CAT) ---\n",
    "total_CAT = {\n",
    "    \"Ignorado\": dados[\"CAT_ign\"].sum(),\n",
    "    \"Sim\": dados[\"CAT_sim\"].sum(),\n",
    "    \"Não\": dados[\"CAT_nao\"].sum(),\n",
    "    \"Não se aplica\": dados[\"CAT_n_aplica\"].sum()\n",
    "}\n",
    "\n",
    "# Transformar em DataFrame para plot\n",
    "total_CAT = pd.DataFrame(list(total_CAT.items()), columns=[\"CAT\", \"Acidentes\"])\n",
    "\n",
    "# Calcula percentual\n",
    "total_CAT[\"Percentual\"] = (total_CAT[\"Acidentes\"] / total_CAT[\"Acidentes\"].sum()) * 100\n",
    "\n",
    "print(tabulate(total_CAT.round(2), headers='keys', tablefmt='pretty'))"
   ]
  },
  {
   "cell_type": "code",
   "execution_count": 18,
   "id": "87c4d868",
   "metadata": {},
   "outputs": [],
   "source": [
    "# --- 5. Matriz de correlação ---\n",
    "# Criar matriz de correlação\n",
    "#corr = dados.corr(numeric_only=True)\n",
    "\n",
    "# Plotar heatmap\n",
    "#plt.figure(figsize=(27,23))\n",
    "#sns.heatmap(corr, annot=True, cmap=\"coolwarm\", fmt=\".2f\", linewidths=0.5)\n",
    "#plt.title(\"Matriz de Correlação\")\n",
    "#plt.savefig(\"matriz_correlacao.jpg\", dpi=300, bbox_inches=\"tight\")\n",
    "#plt.show()"
   ]
  },
  {
   "cell_type": "code",
   "execution_count": 19,
   "id": "fb17ee90",
   "metadata": {},
   "outputs": [],
   "source": [
    "#report = sv.analyze(dados)\n",
    "#report.show_html(filepath = 'analise.html')"
   ]
  },
  {
   "cell_type": "code",
   "execution_count": 20,
   "id": "20297311",
   "metadata": {},
   "outputs": [
    {
     "data": {
      "image/png": "[encoded data removed]",
      "text/plain": [
       "<Figure size 1600x1000 with 4 Axes>"
      ]
     },
     "metadata": {},
     "output_type": "display_data"
    }
   ],
   "source": [
    "# Garantir que ano e mes sejam numéricos\n",
    "dados = pd.read_csv(\"bio-security.csv\", decimal=\",\", encoding=\"utf-8\")\n",
    "\n",
    "sns.set(style=\"whitegrid\")\n",
    "\n",
    "# --- 1) carregar dados (se ainda não carregou) ---\n",
    "if 'dados' not in globals():\n",
    "    dados = pd.read_csv(\"bio-security.csv\", encoding='utf-8', low_memory=False)\n",
    "\n",
    "# --- 2) padronizar nomes de colunas ---\n",
    "dados.columns = dados.columns.str.strip().str.lower()\n",
    "\n",
    "# --- 3) identificar colunas principais ---\n",
    "ncol = [c for c in dados.columns if c.startswith(\"n_caso\") or \"acidente\" in c][0]\n",
    "\n",
    "# --- 4) Funções auxiliares ---\n",
    "def norm_str(s):\n",
    "    if pd.isna(s):\n",
    "        return \"\"\n",
    "    s = str(s)\n",
    "    s = unicodedata.normalize(\"NFKD\", s)\n",
    "    s = \"\".join(ch for ch in s if not unicodedata.combining(ch))\n",
    "    return s.lower().strip()\n",
    "\n",
    "months_map = {\n",
    "    \"janeiro\": 1, \"jan\": 1,\n",
    "    \"fevereiro\": 2, \"fev\": 2,\n",
    "    \"março\": 3, \"marco\": 3, \"mar\": 3,\n",
    "    \"abril\": 4, \"abr\": 4,\n",
    "    \"maio\": 5, \"mai\": 5,\n",
    "    \"junho\": 6, \"jun\": 6,\n",
    "    \"julho\": 7, \"jul\": 7,\n",
    "    \"agosto\": 8, \"ago\": 8,\n",
    "    \"setembro\": 9, \"set\": 9,\n",
    "    \"outubro\": 10, \"out\": 10,\n",
    "    \"novembro\": 11, \"nov\": 11,\n",
    "    \"dezembro\": 12, \"dez\": 12\n",
    "}\n",
    "\n",
    "def mes_para_num(s):\n",
    "    s2 = norm_str(s)\n",
    "    if re.fullmatch(r\"\\d{1,2}\", s2):\n",
    "        return int(s2)\n",
    "    for k,v in months_map.items():\n",
    "        if s2.startswith(k):\n",
    "            return v\n",
    "    return np.nan\n",
    "\n",
    "# --- 5) preparar dados ---\n",
    "dados[\"ano_num\"] = pd.to_numeric(dados[\"ano\"], errors=\"coerce\").astype(\"Int64\")\n",
    "dados[\"mes_num\"] = dados[\"mes\"].apply(mes_para_num).astype(\"Int64\")\n",
    "dados[ncol] = pd.to_numeric(dados[ncol], errors=\"coerce\")\n",
    "\n",
    "dados = dados.dropna(subset=[\"ano_num\", \"mes_num\", ncol])\n",
    "dados[\"ano_str\"] = dados[\"ano_num\"].astype(str)\n",
    "\n",
    "meses_abrev = {1:\"Jan\",2:\"Fev\",3:\"Mar\",4:\"Abr\",5:\"Mai\",6:\"Jun\",\n",
    "               7:\"Jul\",8:\"Ago\",9:\"Set\",10:\"Out\",11:\"Nov\",12:\"Dez\"}\n",
    "dados[\"mes_nome\"] = dados[\"mes_num\"].map(meses_abrev)\n",
    "\n",
    "trimestres = {\n",
    "    \"1º Trimestre\": [1,2,3],\n",
    "    \"2º Trimestre\": [4,5,6],\n",
    "    \"3º Trimestre\": [7,8,9],\n",
    "    \"4º Trimestre\": [10,11,12]\n",
    "}\n",
    "\n",
    "anos_ordenados = sorted(dados[\"ano_str\"].unique(), key=lambda x:int(x))\n",
    "palette = sns.color_palette(\"tab10\", n_colors=len(anos_ordenados))\n",
    "\n",
    "# --- 6) criar figura com subplots (2x2) ---\n",
    "fig, axes = plt.subplots(2, 2, figsize=(16, 10))\n",
    "axes = axes.flatten()\n",
    "\n",
    "for i, (nome_trim, meses_trim) in enumerate(trimestres.items()):\n",
    "    ax = axes[i]\n",
    "    df_trim = dados[dados[\"mes_num\"].isin(meses_trim)]\n",
    "    if df_trim.empty:\n",
    "        ax.text(0.5, 0.5, \"Sem dados\", ha=\"center\", va=\"center\")\n",
    "        ax.set_title(nome_trim)\n",
    "        continue\n",
    "\n",
    "    agg = (df_trim.groupby([\"mes_num\",\"mes_nome\",\"ano_str\"], as_index=False)[ncol]\n",
    "           .sum()\n",
    "           .rename(columns={ncol: \"total_casos\"}))\n",
    "\n",
    "    ordem_meses = [meses_abrev[m] for m in meses_trim]\n",
    "    agg[\"mes_nome\"] = pd.Categorical(agg[\"mes_nome\"], categories=ordem_meses, ordered=True)\n",
    "\n",
    "    sns.barplot(\n",
    "        data=agg,\n",
    "        x=\"mes_nome\",\n",
    "        y=\"total_casos\",\n",
    "        hue=\"ano_str\",\n",
    "        hue_order=anos_ordenados,\n",
    "        palette=palette,\n",
    "        ax=ax\n",
    "    )\n",
    "    ax.legend_.remove()  \n",
    "\n",
    "    for container in ax.containers:\n",
    "        ax.bar_label(container, fmt=\"%.0f\", label_type=\"edge\", fontsize=8, padding=2)\n",
    "\n",
    "    ax.set_title(nome_trim, fontsize=13)\n",
    "    ax.set_xlabel(\"Mês\")\n",
    "    ax.set_ylabel(\"Nº de Acidentes\")\n",
    "\n",
    "# remover legendas duplicadas e criar uma única\n",
    "handles, labels = axes[0].get_legend_handles_labels()\n",
    "fig.legend(handles, labels, title=\"Ano\", loc=\"upper center\", ncol=len(anos_ordenados))\n",
    "\n",
    "plt.suptitle(\"Total de Acidentes por Trimestre (2020–2024)\", fontsize=16, y=0.98)\n",
    "plt.tight_layout(rect=[0, 0, 1, 0.95])\n",
    "plt.savefig(\"trimestral.jpg\", dpi=300, bbox_inches=\"tight\")\n",
    "plt.show()\n"
   ]
  }
 ],
 "metadata": {
  "kernelspec": {
   "display_name": "Python 3",
   "language": "python",
   "name": "python3"
  },
  "language_info": {
   "codemirror_mode": {
    "name": "ipython",
    "version": 3
   },
   "file_extension": ".py",
   "mimetype": "text/x-python",
   "name": "python",
   "nbconvert_exporter": "python",
   "pygments_lexer": "ipython3",
   "version": "3.12.10"
  }
 },
 "nbformat": 4,
 "nbformat_minor": 5
}
